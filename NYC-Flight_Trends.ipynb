{
 "cells": [
  {
   "cell_type": "markdown",
   "metadata": {},
   "source": [
    "# Analysis of NYC Flight Trends in Python\n"
   ]
  },
  {
   "cell_type": "code",
   "execution_count": 1,
   "metadata": {
    "collapsed": false
   },
   "outputs": [],
   "source": [
    "import IPython\n",
    "import numpy as np\n",
    "import scipy as sp\n",
    "import pandas as pd\n",
    "import matplotlib\n",
    "import sklearn\n",
    "import matplotlib.pyplot as plt\n"
   ]
  },
  {
   "cell_type": "code",
   "execution_count": 2,
   "metadata": {
    "collapsed": false
   },
   "outputs": [],
   "source": [
    "flights_df= pd.read_csv('flights.csv')"
   ]
  },
  {
   "cell_type": "code",
   "execution_count": 3,
   "metadata": {
    "collapsed": false
   },
   "outputs": [
    {
     "name": "stdout",
     "output_type": "stream",
     "text": [
      "(336776, 17)\n",
      "Index(['Unnamed: 0', 'year', 'month', 'day', 'dep_time', 'dep_delay',\n",
      "       'arr_time', 'arr_delay', 'carrier', 'tailnum', 'flight', 'origin',\n",
      "       'dest', 'air_time', 'distance', 'hour', 'minute'],\n",
      "      dtype='object')\n",
      "Unnamed: 0      int64\n",
      "year            int64\n",
      "month           int64\n",
      "day             int64\n",
      "dep_time      float64\n",
      "dep_delay     float64\n",
      "arr_time      float64\n",
      "arr_delay     float64\n",
      "carrier        object\n",
      "tailnum        object\n",
      "flight          int64\n",
      "origin         object\n",
      "dest           object\n",
      "air_time      float64\n",
      "distance        int64\n",
      "hour          float64\n",
      "minute        float64\n",
      "dtype: object\n"
     ]
    }
   ],
   "source": [
    "print(flights_df.shape) #Dimension of the data\n",
    "print(flights_df.columns) #Names of all the columns in the dataset\n",
    "print(flights_df.dtypes) #Datatype of each variable"
   ]
  },
  {
   "cell_type": "code",
   "execution_count": 4,
   "metadata": {
    "collapsed": false
   },
   "outputs": [
    {
     "data": {
      "text/html": [
       "<div>\n",
       "<table border=\"1\" class=\"dataframe\">\n",
       "  <thead>\n",
       "    <tr style=\"text-align: right;\">\n",
       "      <th></th>\n",
       "      <th>Unnamed: 0</th>\n",
       "      <th>year</th>\n",
       "      <th>month</th>\n",
       "      <th>day</th>\n",
       "      <th>dep_time</th>\n",
       "      <th>dep_delay</th>\n",
       "      <th>arr_time</th>\n",
       "      <th>arr_delay</th>\n",
       "      <th>carrier</th>\n",
       "      <th>tailnum</th>\n",
       "      <th>flight</th>\n",
       "      <th>origin</th>\n",
       "      <th>dest</th>\n",
       "      <th>air_time</th>\n",
       "      <th>distance</th>\n",
       "      <th>hour</th>\n",
       "      <th>minute</th>\n",
       "    </tr>\n",
       "  </thead>\n",
       "  <tbody>\n",
       "    <tr>\n",
       "      <th>0</th>\n",
       "      <td>1</td>\n",
       "      <td>2013</td>\n",
       "      <td>1</td>\n",
       "      <td>1</td>\n",
       "      <td>517.0</td>\n",
       "      <td>2.0</td>\n",
       "      <td>830.0</td>\n",
       "      <td>11.0</td>\n",
       "      <td>UA</td>\n",
       "      <td>N14228</td>\n",
       "      <td>1545</td>\n",
       "      <td>EWR</td>\n",
       "      <td>IAH</td>\n",
       "      <td>227.0</td>\n",
       "      <td>1400</td>\n",
       "      <td>5.0</td>\n",
       "      <td>17.0</td>\n",
       "    </tr>\n",
       "    <tr>\n",
       "      <th>1</th>\n",
       "      <td>2</td>\n",
       "      <td>2013</td>\n",
       "      <td>1</td>\n",
       "      <td>1</td>\n",
       "      <td>533.0</td>\n",
       "      <td>4.0</td>\n",
       "      <td>850.0</td>\n",
       "      <td>20.0</td>\n",
       "      <td>UA</td>\n",
       "      <td>N24211</td>\n",
       "      <td>1714</td>\n",
       "      <td>LGA</td>\n",
       "      <td>IAH</td>\n",
       "      <td>227.0</td>\n",
       "      <td>1416</td>\n",
       "      <td>5.0</td>\n",
       "      <td>33.0</td>\n",
       "    </tr>\n",
       "    <tr>\n",
       "      <th>2</th>\n",
       "      <td>3</td>\n",
       "      <td>2013</td>\n",
       "      <td>1</td>\n",
       "      <td>1</td>\n",
       "      <td>542.0</td>\n",
       "      <td>2.0</td>\n",
       "      <td>923.0</td>\n",
       "      <td>33.0</td>\n",
       "      <td>AA</td>\n",
       "      <td>N619AA</td>\n",
       "      <td>1141</td>\n",
       "      <td>JFK</td>\n",
       "      <td>MIA</td>\n",
       "      <td>160.0</td>\n",
       "      <td>1089</td>\n",
       "      <td>5.0</td>\n",
       "      <td>42.0</td>\n",
       "    </tr>\n",
       "    <tr>\n",
       "      <th>3</th>\n",
       "      <td>4</td>\n",
       "      <td>2013</td>\n",
       "      <td>1</td>\n",
       "      <td>1</td>\n",
       "      <td>544.0</td>\n",
       "      <td>-1.0</td>\n",
       "      <td>1004.0</td>\n",
       "      <td>-18.0</td>\n",
       "      <td>B6</td>\n",
       "      <td>N804JB</td>\n",
       "      <td>725</td>\n",
       "      <td>JFK</td>\n",
       "      <td>BQN</td>\n",
       "      <td>183.0</td>\n",
       "      <td>1576</td>\n",
       "      <td>5.0</td>\n",
       "      <td>44.0</td>\n",
       "    </tr>\n",
       "    <tr>\n",
       "      <th>4</th>\n",
       "      <td>5</td>\n",
       "      <td>2013</td>\n",
       "      <td>1</td>\n",
       "      <td>1</td>\n",
       "      <td>554.0</td>\n",
       "      <td>-6.0</td>\n",
       "      <td>812.0</td>\n",
       "      <td>-25.0</td>\n",
       "      <td>DL</td>\n",
       "      <td>N668DN</td>\n",
       "      <td>461</td>\n",
       "      <td>LGA</td>\n",
       "      <td>ATL</td>\n",
       "      <td>116.0</td>\n",
       "      <td>762</td>\n",
       "      <td>5.0</td>\n",
       "      <td>54.0</td>\n",
       "    </tr>\n",
       "    <tr>\n",
       "      <th>5</th>\n",
       "      <td>6</td>\n",
       "      <td>2013</td>\n",
       "      <td>1</td>\n",
       "      <td>1</td>\n",
       "      <td>554.0</td>\n",
       "      <td>-4.0</td>\n",
       "      <td>740.0</td>\n",
       "      <td>12.0</td>\n",
       "      <td>UA</td>\n",
       "      <td>N39463</td>\n",
       "      <td>1696</td>\n",
       "      <td>EWR</td>\n",
       "      <td>ORD</td>\n",
       "      <td>150.0</td>\n",
       "      <td>719</td>\n",
       "      <td>5.0</td>\n",
       "      <td>54.0</td>\n",
       "    </tr>\n",
       "    <tr>\n",
       "      <th>6</th>\n",
       "      <td>7</td>\n",
       "      <td>2013</td>\n",
       "      <td>1</td>\n",
       "      <td>1</td>\n",
       "      <td>555.0</td>\n",
       "      <td>-5.0</td>\n",
       "      <td>913.0</td>\n",
       "      <td>19.0</td>\n",
       "      <td>B6</td>\n",
       "      <td>N516JB</td>\n",
       "      <td>507</td>\n",
       "      <td>EWR</td>\n",
       "      <td>FLL</td>\n",
       "      <td>158.0</td>\n",
       "      <td>1065</td>\n",
       "      <td>5.0</td>\n",
       "      <td>55.0</td>\n",
       "    </tr>\n",
       "    <tr>\n",
       "      <th>7</th>\n",
       "      <td>8</td>\n",
       "      <td>2013</td>\n",
       "      <td>1</td>\n",
       "      <td>1</td>\n",
       "      <td>557.0</td>\n",
       "      <td>-3.0</td>\n",
       "      <td>709.0</td>\n",
       "      <td>-14.0</td>\n",
       "      <td>EV</td>\n",
       "      <td>N829AS</td>\n",
       "      <td>5708</td>\n",
       "      <td>LGA</td>\n",
       "      <td>IAD</td>\n",
       "      <td>53.0</td>\n",
       "      <td>229</td>\n",
       "      <td>5.0</td>\n",
       "      <td>57.0</td>\n",
       "    </tr>\n",
       "    <tr>\n",
       "      <th>8</th>\n",
       "      <td>9</td>\n",
       "      <td>2013</td>\n",
       "      <td>1</td>\n",
       "      <td>1</td>\n",
       "      <td>557.0</td>\n",
       "      <td>-3.0</td>\n",
       "      <td>838.0</td>\n",
       "      <td>-8.0</td>\n",
       "      <td>B6</td>\n",
       "      <td>N593JB</td>\n",
       "      <td>79</td>\n",
       "      <td>JFK</td>\n",
       "      <td>MCO</td>\n",
       "      <td>140.0</td>\n",
       "      <td>944</td>\n",
       "      <td>5.0</td>\n",
       "      <td>57.0</td>\n",
       "    </tr>\n",
       "    <tr>\n",
       "      <th>9</th>\n",
       "      <td>10</td>\n",
       "      <td>2013</td>\n",
       "      <td>1</td>\n",
       "      <td>1</td>\n",
       "      <td>558.0</td>\n",
       "      <td>-2.0</td>\n",
       "      <td>753.0</td>\n",
       "      <td>8.0</td>\n",
       "      <td>AA</td>\n",
       "      <td>N3ALAA</td>\n",
       "      <td>301</td>\n",
       "      <td>LGA</td>\n",
       "      <td>ORD</td>\n",
       "      <td>138.0</td>\n",
       "      <td>733</td>\n",
       "      <td>5.0</td>\n",
       "      <td>58.0</td>\n",
       "    </tr>\n",
       "  </tbody>\n",
       "</table>\n",
       "</div>"
      ],
      "text/plain": [
       "   Unnamed: 0  year  month  day  dep_time  dep_delay  arr_time  arr_delay  \\\n",
       "0           1  2013      1    1     517.0        2.0     830.0       11.0   \n",
       "1           2  2013      1    1     533.0        4.0     850.0       20.0   \n",
       "2           3  2013      1    1     542.0        2.0     923.0       33.0   \n",
       "3           4  2013      1    1     544.0       -1.0    1004.0      -18.0   \n",
       "4           5  2013      1    1     554.0       -6.0     812.0      -25.0   \n",
       "5           6  2013      1    1     554.0       -4.0     740.0       12.0   \n",
       "6           7  2013      1    1     555.0       -5.0     913.0       19.0   \n",
       "7           8  2013      1    1     557.0       -3.0     709.0      -14.0   \n",
       "8           9  2013      1    1     557.0       -3.0     838.0       -8.0   \n",
       "9          10  2013      1    1     558.0       -2.0     753.0        8.0   \n",
       "\n",
       "  carrier tailnum  flight origin dest  air_time  distance  hour  minute  \n",
       "0      UA  N14228    1545    EWR  IAH     227.0      1400   5.0    17.0  \n",
       "1      UA  N24211    1714    LGA  IAH     227.0      1416   5.0    33.0  \n",
       "2      AA  N619AA    1141    JFK  MIA     160.0      1089   5.0    42.0  \n",
       "3      B6  N804JB     725    JFK  BQN     183.0      1576   5.0    44.0  \n",
       "4      DL  N668DN     461    LGA  ATL     116.0       762   5.0    54.0  \n",
       "5      UA  N39463    1696    EWR  ORD     150.0       719   5.0    54.0  \n",
       "6      B6  N516JB     507    EWR  FLL     158.0      1065   5.0    55.0  \n",
       "7      EV  N829AS    5708    LGA  IAD      53.0       229   5.0    57.0  \n",
       "8      B6  N593JB      79    JFK  MCO     140.0       944   5.0    57.0  \n",
       "9      AA  N3ALAA     301    LGA  ORD     138.0       733   5.0    58.0  "
      ]
     },
     "execution_count": 4,
     "metadata": {},
     "output_type": "execute_result"
    }
   ],
   "source": [
    "flights_df.dest.unique()\n",
    "flights_df.head(10) #An overview of the dataset"
   ]
  },
  {
   "cell_type": "markdown",
   "metadata": {},
   "source": [
    "## How many flights were there from NYC airports to Seattle in 2013?"
   ]
  },
  {
   "cell_type": "code",
   "execution_count": 6,
   "metadata": {
    "collapsed": false
   },
   "outputs": [
    {
     "data": {
      "text/plain": [
       "SEA    3923\n",
       "Name: dest, dtype: int64"
      ]
     },
     "execution_count": 6,
     "metadata": {},
     "output_type": "execute_result"
    }
   ],
   "source": [
    "flights_df['dest'][flights_df['dest']=='SEA'].value_counts()\n"
   ]
  },
  {
   "cell_type": "markdown",
   "metadata": {},
   "source": [
    "--There were a total of 3923 flights from NYC to Seattle in 2013--"
   ]
  },
  {
   "cell_type": "markdown",
   "metadata": {},
   "source": [
    "## How many airlines fly from NYC to Seattle?"
   ]
  },
  {
   "cell_type": "code",
   "execution_count": 8,
   "metadata": {
    "collapsed": false
   },
   "outputs": [
    {
     "data": {
      "text/plain": [
       "DL    1213\n",
       "UA    1117\n",
       "AS     714\n",
       "B6     514\n",
       "AA     365\n",
       "Name: carrier, dtype: int64"
      ]
     },
     "execution_count": 8,
     "metadata": {},
     "output_type": "execute_result"
    }
   ],
   "source": [
    "flights_df['carrier'][flights_df['dest']=='SEA'].value_counts()"
   ]
  },
  {
   "cell_type": "markdown",
   "metadata": {},
   "source": [
    "There are a total of 5 airline carriers that fly from NYC to Seattle. The total number of flights for each of the airline carriers is as follows:\n",
    "DL - 1213, UA- 1117, AS-714, B6-514, AA-365"
   ]
  },
  {
   "cell_type": "markdown",
   "metadata": {},
   "source": [
    "## How many unique air planes fly from NYC to Seattle?"
   ]
  },
  {
   "cell_type": "code",
   "execution_count": 91,
   "metadata": {
    "collapsed": false
   },
   "outputs": [
    {
     "data": {
      "text/plain": [
       "936"
      ]
     },
     "execution_count": 91,
     "metadata": {},
     "output_type": "execute_result"
    }
   ],
   "source": [
    "len((flights_df['tailnum'][flights_df['dest']=='SEA'].unique()))"
   ]
  },
  {
   "cell_type": "markdown",
   "metadata": {},
   "source": [
    "There are a total of 936 unique air planes from NYC to Seattle."
   ]
  },
  {
   "cell_type": "markdown",
   "metadata": {},
   "source": [
    "## What is the average arrival delay for flights from NC to Seattle?"
   ]
  },
  {
   "cell_type": "code",
   "execution_count": null,
   "metadata": {
    "collapsed": false
   },
   "outputs": [],
   "source": [
    "flights_df['arr_delay'][flights_df['dest']=='SEA'].mean()"
   ]
  },
  {
   "cell_type": "markdown",
   "metadata": {},
   "source": [
    "The average arrival delay for flights from NYC to Seattle is -1.099. The negative value implies that instead of a delay, flights arrive before the scheduled time by 1.099 units."
   ]
  },
  {
   "cell_type": "markdown",
   "metadata": {},
   "source": [
    "## What proportion of flights to Seattle come from each NYC airport?"
   ]
  },
  {
   "cell_type": "code",
   "execution_count": 106,
   "metadata": {
    "collapsed": false
   },
   "outputs": [
    {
     "name": "stdout",
     "output_type": "stream",
     "text": [
      "origin\n",
      "EWR    1810\n",
      "JFK    2075\n",
      "dtype: int64\n",
      "Proportion of flights from EWR to Seattle: 0.465894465894\n",
      "Proportion of flights from JFK to Seattle: 0.534105534106\n"
     ]
    }
   ],
   "source": [
    "f=flights_df[flights_df['dest']=='SEA'].groupby('origin').size()\n",
    "print(f)\n",
    "f_total=len(flights_df[flights_df.dest=='SEA'])\n",
    "print(\"Proportion of flights from EWR to Seattle:\", f.loc['EWR']/f_total)\n",
    "print(\"Proportion of flights from JFK to Seattle:\", f.loc['JFK']/f_total)"
   ]
  },
  {
   "cell_type": "markdown",
   "metadata": {},
   "source": [
    "Total flights from EWR to Seattle: 1810\n",
    "Proportion of flights from EWR to Seattle: 0.46\n",
    "Total flights from JFK to Seattle: 2075\n",
    "Proportion of flights from JFK to Seattle: 0.53"
   ]
  },
  {
   "cell_type": "markdown",
   "metadata": {},
   "source": [
    "## Flights are often delayed. The following questions explore delay patterns:\n",
    "## Which date has the largest average departure delay? Which date has the largest average arrival delay?"
   ]
  },
  {
   "cell_type": "code",
   "execution_count": 95,
   "metadata": {
    "collapsed": false
   },
   "outputs": [
    {
     "name": "stdout",
     "output_type": "stream",
     "text": [
      "Largest Average Departure Delay:\n",
      "month         3.000000\n",
      "day           8.000000\n",
      "dep_delay    83.536921\n",
      "Name: 66, dtype: float64\n",
      "\n",
      "Largest Average Arrival Delay:\n",
      "month         3.000000\n",
      "day           8.000000\n",
      "arr_delay    85.862155\n",
      "Name: 66, dtype: float64\n"
     ]
    }
   ],
   "source": [
    "print(\"Largest Average Departure Delay:\")\n",
    "df = flights_df.groupby(['month','day'], as_index=False).agg({'dep_delay':np.mean})\n",
    "print(df.loc[df['dep_delay'].idxmax()])           \n",
    "\n",
    "print(\"\\nLargest Average Arrival Delay:\")\n",
    "df2=flights_df.groupby(['month','day'], as_index=False).agg({'arr_delay':np.mean})\n",
    "print(df2.loc[df2['arr_delay'].idxmax()])"
   ]
  },
  {
   "cell_type": "markdown",
   "metadata": {},
   "source": [
    "The date 8/3/2013 (8th March 2013) has the largest average departure delay equal to 83.53 units.\n",
    "The date 8/3/2013 (8th March 2013) has the largest arrival delay, equal to 85.86 units."
   ]
  },
  {
   "cell_type": "markdown",
   "metadata": {},
   "source": [
    "## What was the worst day to fly out of NYC in 2013 if you dislike delayed flights?\n"
   ]
  },
  {
   "cell_type": "code",
   "execution_count": 64,
   "metadata": {
    "collapsed": false
   },
   "outputs": [
    {
     "data": {
      "text/html": [
       "<div>\n",
       "<table border=\"1\" class=\"dataframe\">\n",
       "  <thead>\n",
       "    <tr style=\"text-align: right;\">\n",
       "      <th></th>\n",
       "      <th>day</th>\n",
       "      <th>month</th>\n",
       "      <th>arr_delay</th>\n",
       "      <th>dep_delay</th>\n",
       "      <th>total_delay</th>\n",
       "    </tr>\n",
       "  </thead>\n",
       "  <tbody>\n",
       "    <tr>\n",
       "      <th>86</th>\n",
       "      <td>8</td>\n",
       "      <td>3</td>\n",
       "      <td>85.862155</td>\n",
       "      <td>83.536921</td>\n",
       "      <td>169.399077</td>\n",
       "    </tr>\n",
       "  </tbody>\n",
       "</table>\n",
       "</div>"
      ],
      "text/plain": [
       "    day  month  arr_delay  dep_delay  total_delay\n",
       "86    8      3  85.862155  83.536921   169.399077"
      ]
     },
     "execution_count": 64,
     "metadata": {},
     "output_type": "execute_result"
    }
   ],
   "source": [
    "df = df.groupby(['day', 'month'],as_index=False).agg({'arr_delay':np.mean, 'dep_delay':np.mean})\n",
    "df['total_delay'] = df['arr_delay'] + df['dep_delay']\n",
    "df.sort_values('total_delay', ascending=False).head(1)"
   ]
  },
  {
   "cell_type": "markdown",
   "metadata": {},
   "source": [
    "The worst day to fly out of NYC in 2013 was 8th March 2013. The average arrival delay was 85.86units, the average departure delay was 83.54 units and the total delay was 169 units."
   ]
  },
  {
   "cell_type": "markdown",
   "metadata": {},
   "source": [
    "## Are there any seasonal patterns in departure delays for flights from NYC?"
   ]
  },
  {
   "cell_type": "code",
   "execution_count": 88,
   "metadata": {
    "collapsed": false
   },
   "outputs": [
    {
     "name": "stdout",
     "output_type": "stream",
     "text": [
      "month\n",
      "1     10.036665\n",
      "2     10.816843\n",
      "3     13.227076\n",
      "4     13.938038\n",
      "5     12.986859\n",
      "6     20.846332\n",
      "7     21.727787\n",
      "8     12.611040\n",
      "9      6.722476\n",
      "10     6.243988\n",
      "11     5.435362\n",
      "12    16.576688\n",
      "Name: dep_delay, dtype: float64\n"
     ]
    },
    {
     "data": {
      "text/plain": [
       "<matplotlib.text.Text at 0x22d15d3c9b0>"
      ]
     },
     "execution_count": 88,
     "metadata": {},
     "output_type": "execute_result"
    },
    {
     "data": {
      "image/png": "[encoded data removed]",
      "text/plain": [
       "<matplotlib.figure.Figure at 0x22d14b72320>"
      ]
     },
     "metadata": {},
     "output_type": "display_data"
    }
   ],
   "source": [
    "ds = flights_df.groupby('month')['dep_delay'].mean()\n",
    "print(ds)\n",
    "%matplotlib inline\n",
    "ds.plot(title = 'Average Departure Delays by Month', color='green')\n",
    "plt.ylabel('Average Departure Delay')\n",
    "plt.xlabel('Month')"
   ]
  },
  {
   "cell_type": "markdown",
   "metadata": {},
   "source": [
    "The average departure delay gradually increases from the month of January to July, followed by a decrease from August to November. Finally, there is an increase from December again. This signifies that certain seasonal factors may be responsible for decreasing departure delays in Fall and increasing departure delays in late Winter, Spring and Summer. Since the peak departure delays occur in Summer(June, July), other factors such as increased passenger traffic at airports (for holidaying) need to be explored for further analysis. "
   ]
  },
  {
   "cell_type": "markdown",
   "metadata": {},
   "source": [
    "## On average, how do departure delays vary over the course of a day?"
   ]
  },
  {
   "cell_type": "code",
   "execution_count": 87,
   "metadata": {
    "collapsed": false
   },
   "outputs": [
    {
     "name": "stdout",
     "output_type": "stream",
     "text": [
      "hour\n",
      "0.0     128.642452\n",
      "1.0     207.049327\n",
      "2.0     239.921875\n",
      "3.0     304.727273\n",
      "4.0      -5.554098\n",
      "5.0      -4.355644\n",
      "6.0      -1.520552\n",
      "7.0       0.223289\n",
      "8.0       1.091432\n",
      "9.0       4.268295\n",
      "10.0      5.548644\n",
      "11.0      5.652309\n",
      "12.0      7.601892\n",
      "13.0      9.380639\n",
      "14.0      8.090381\n",
      "15.0     10.682049\n",
      "16.0     13.621150\n",
      "17.0     16.756593\n",
      "18.0     18.664671\n",
      "19.0     21.497342\n",
      "20.0     28.266213\n",
      "21.0     42.064964\n",
      "22.0     68.190042\n",
      "23.0     96.946865\n",
      "24.0     64.862069\n",
      "Name: dep_delay, dtype: float64\n"
     ]
    },
    {
     "data": {
      "text/plain": [
       "<matplotlib.text.Text at 0x22d14b69160>"
      ]
     },
     "execution_count": 87,
     "metadata": {},
     "output_type": "execute_result"
    },
    {
     "data": {
      "image/png": "[encoded data removed]",
      "text/plain": [
       "<matplotlib.figure.Figure at 0x22d14b220f0>"
      ]
     },
     "metadata": {},
     "output_type": "display_data"
    }
   ],
   "source": [
    "dt = flights_df.groupby('hour')['dep_delay'].mean()\n",
    "print(dt)\n",
    "dt.plot(title = 'Average Departure Delay by Hour', color='purple')\n",
    "plt.xlabel('Hour')\n",
    "plt.ylabel('Average Departure delay')"
   ]
  },
  {
   "cell_type": "markdown",
   "metadata": {},
   "source": [
    "There is a rapid increase in departure delays betwen 12 AM and 3 AM followed by a steep decline from 3 AM to 4 AM. Again, from 4 AM onwards, there is a gradual rise till 9 PM, forming a small peak around 11 PM. Finally, the departure delay starts decreasing from 11 PM to 12 AM. This may be attributed to the assumption that there are fewer flights at the timeslot of 11 PM to 12 AM which causes the rapid decline in departure delays. "
   ]
  },
  {
   "cell_type": "markdown",
   "metadata": {},
   "source": [
    "## Which flight departing NYC in 2013 flew the fastest?"
   ]
  },
  {
   "cell_type": "code",
   "execution_count": 66,
   "metadata": {
    "collapsed": false
   },
   "outputs": [
    {
     "data": {
      "text/html": [
       "<div>\n",
       "<table border=\"1\" class=\"dataframe\">\n",
       "  <thead>\n",
       "    <tr style=\"text-align: right;\">\n",
       "      <th></th>\n",
       "      <th>Unnamed: 0</th>\n",
       "      <th>year</th>\n",
       "      <th>month</th>\n",
       "      <th>day</th>\n",
       "      <th>dep_time</th>\n",
       "      <th>dep_delay</th>\n",
       "      <th>arr_time</th>\n",
       "      <th>arr_delay</th>\n",
       "      <th>carrier</th>\n",
       "      <th>tailnum</th>\n",
       "      <th>flight</th>\n",
       "      <th>origin</th>\n",
       "      <th>dest</th>\n",
       "      <th>air_time</th>\n",
       "      <th>distance</th>\n",
       "      <th>hour</th>\n",
       "      <th>minute</th>\n",
       "      <th>speed</th>\n",
       "    </tr>\n",
       "  </thead>\n",
       "  <tbody>\n",
       "    <tr>\n",
       "      <th>216447</th>\n",
       "      <td>216448</td>\n",
       "      <td>2013</td>\n",
       "      <td>5</td>\n",
       "      <td>25</td>\n",
       "      <td>1709.0</td>\n",
       "      <td>9.0</td>\n",
       "      <td>1923.0</td>\n",
       "      <td>-14.0</td>\n",
       "      <td>DL</td>\n",
       "      <td>N666DN</td>\n",
       "      <td>1499</td>\n",
       "      <td>LGA</td>\n",
       "      <td>ATL</td>\n",
       "      <td>65.0</td>\n",
       "      <td>762</td>\n",
       "      <td>17.0</td>\n",
       "      <td>9.0</td>\n",
       "      <td>11.723077</td>\n",
       "    </tr>\n",
       "  </tbody>\n",
       "</table>\n",
       "</div>"
      ],
      "text/plain": [
       "        Unnamed: 0  year  month  day  dep_time  dep_delay  arr_time  \\\n",
       "216447      216448  2013      5   25    1709.0        9.0    1923.0   \n",
       "\n",
       "        arr_delay carrier tailnum  flight origin dest  air_time  distance  \\\n",
       "216447      -14.0      DL  N666DN    1499    LGA  ATL      65.0       762   \n",
       "\n",
       "        hour  minute      speed  \n",
       "216447  17.0     9.0  11.723077  "
      ]
     },
     "execution_count": 66,
     "metadata": {},
     "output_type": "execute_result"
    }
   ],
   "source": [
    "df = flights_df\n",
    "df['speed'] = df['distance']/df['air_time']\n",
    "df[df['speed']==df.speed.max()]"
   ]
  },
  {
   "cell_type": "markdown",
   "metadata": {},
   "source": [
    "The flight 1499 with tailnum N666DN belonging to carrier DL travelling from LGA to ATL has the highest speed. \n",
    "It covers a distance of 762 miles in 65 minutes and has a speed of 11.723 mph."
   ]
  },
  {
   "cell_type": "markdown",
   "metadata": {},
   "source": [
    "## Which flights (i.e. carrier + flight + dest) happen every day? Where do they fly to?"
   ]
  },
  {
   "cell_type": "code",
   "execution_count": 96,
   "metadata": {
    "collapsed": false
   },
   "outputs": [
    {
     "name": "stdout",
     "output_type": "stream",
     "text": [
      "Carrier: AA, Flight: 59, Destination: SFO\n",
      "Carrier: AA, Flight: 119, Destination: LAX\n",
      "Carrier: AA, Flight: 181, Destination: LAX\n",
      "Carrier: AA, Flight: 1357, Destination: SJU\n",
      "Carrier: AA, Flight: 1611, Destination: MIA\n",
      "Carrier: B6, Flight: 219, Destination: CLT\n",
      "Carrier: B6, Flight: 359, Destination: BUR\n",
      "Carrier: B6, Flight: 371, Destination: FLL\n",
      "Carrier: B6, Flight: 431, Destination: SRQ\n",
      "Carrier: B6, Flight: 703, Destination: SJU\n",
      "Carrier: B6, Flight: 1783, Destination: MCO\n",
      "Carrier: DL, Flight: 2159, Destination: MCO\n",
      "Carrier: DL, Flight: 2391, Destination: TPA\n",
      "Carrier: EV, Flight: 5712, Destination: IAD\n",
      "Carrier: UA, Flight: 15, Destination: HNL\n",
      "Carrier: VX, Flight: 251, Destination: LAS\n",
      "Carrier: VX, Flight: 407, Destination: LAX\n",
      "Carrier: VX, Flight: 413, Destination: LAX\n"
     ]
    }
   ],
   "source": [
    "count=len(flights_df)\n",
    "df = flights_df.groupby(['carrier', 'flight', 'dest']).size().reset_index(name='Size')\n",
    "for i in df.index:\n",
    "    if(df.loc[i]['Size']) == 365: # Since 2013 is not a leap year\n",
    "        print(\"Carrier: %s, Flight: %s, Destination: %s\" %(df.loc[i]['carrier'], df.loc[i]['flight'],\n",
    "                                                           df.loc[i]['dest']))\n",
    "    \n",
    "\n"
   ]
  },
  {
   "cell_type": "markdown",
   "metadata": {},
   "source": [
    "All the above 18 flights fly out of NYC every day."
   ]
  },
  {
   "cell_type": "markdown",
   "metadata": {},
   "source": [
    "## Which airline carrier has the best service in terms of the lowest average flight arrival and departure delays in June 2013?"
   ]
  },
  {
   "cell_type": "code",
   "execution_count": 16,
   "metadata": {
    "collapsed": false,
    "scrolled": true
   },
   "outputs": [
    {
     "name": "stdout",
     "output_type": "stream",
     "text": [
      "HA 3.3\n",
      "   carrier  arr_delay  dep_delay  total_delay\n",
      "0       9E  22.511905  28.952978    51.464883\n",
      "1       AA   6.481178  14.627778    21.108956\n",
      "2       AS  -3.750000  13.083333     9.333333\n",
      "3       B6  18.541319  20.392170    38.933488\n",
      "4       DL  13.261829  18.735941    31.997770\n",
      "5       EV  21.267975  25.496834    46.764809\n",
      "6       F9  26.636364  29.436364    56.072727\n",
      "7       FL  41.966805  38.806584    80.773389\n",
      "8       HA   1.833333   1.466667     3.300000\n",
      "9       MQ  23.143722  20.842342    43.986064\n",
      "10      OO  68.500000  61.000000   129.500000\n",
      "11      UA  12.794882  20.265377    33.060259\n",
      "12      US  11.314095  10.404834    21.718929\n",
      "13      VX  26.684760  28.412500    55.097260\n",
      "14      WN  22.089286  30.514735    52.604020\n",
      "15      YV  44.589744  42.794872    87.384615\n"
     ]
    },
    {
     "data": {
      "text/plain": [
       "<matplotlib.axes._subplots.AxesSubplot at 0x17820e4fda0>"
      ]
     },
     "execution_count": 16,
     "metadata": {},
     "output_type": "execute_result"
    },
    {
     "data": {
      "image/png": "[encoded data removed]",
      "text/plain": [
       "<matplotlib.figure.Figure at 0x1781e023d30>"
      ]
     },
     "metadata": {},
     "output_type": "display_data"
    },
    {
     "data": {
      "image/png": "[encoded data removed]",
      "text/plain": [
       "<matplotlib.figure.Figure at 0x1781e619588>"
      ]
     },
     "metadata": {},
     "output_type": "display_data"
    },
    {
     "data": {
      "image/png": "[encoded data removed]",
      "text/plain": [
       "<matplotlib.figure.Figure at 0x17820a1dc88>"
      ]
     },
     "metadata": {},
     "output_type": "display_data"
    }
   ],
   "source": [
    "df = flights_df[flights_df['month']==6]\n",
    "df = df.groupby('carrier',as_index=False).agg({'arr_delay':np.mean, 'dep_delay':np.mean})\n",
    "df['total_delay'] = df['arr_delay'] + df['dep_delay']\n",
    "for i in df.index:\n",
    "    if df.loc[i]['total_delay'] == df['total_delay'].min():\n",
    "        print(df.loc[i]['carrier'], df.loc[i]['total_delay'])\n",
    "        \n",
    "print(df)\n",
    "\n",
    "%matplotlib inline\n",
    "\n",
    "dt=df\n",
    "dt.boxplot(column='arr_delay', by='carrier')\n",
    "\n",
    "dx = df\n",
    "dx.boxplot(column='dep_delay',by='carrier')\n",
    "\n",
    "df.boxplot(column='total_delay', by='carrier')\n",
    "\n"
   ]
  },
  {
   "cell_type": "markdown",
   "metadata": {},
   "source": [
    "The carrier Hawaiian Airlines(HA) has the best service in terms of lowest average arrival and departure delays in June 2013. The lowest total delay is 3.3 units. The carrier with the highest average total delay (arrival delay + departure delay) is OO with an average total delay of 129.5 units. Thus, we can classify SkyWest Airlines (OO) as the worst carrier in terms of average total delay.\n",
    "\n",
    "From the plot, we can see that the total delay (arrival delay + departure delay) for Hawaiian Airlines (HA) is the lowest. The median and quartile range for United Airlines is the lowest among all the other carriers.  The median and quartile range for Skywest Airlines(OO) is the highest from each of the plots. "
   ]
  },
  {
   "cell_type": "markdown",
   "metadata": {},
   "source": [
    "## What weather conditions are associated with flight delays leaving NYC? Use graphics to explore."
   ]
  },
  {
   "cell_type": "code",
   "execution_count": 5,
   "metadata": {
    "collapsed": false
   },
   "outputs": [
    {
     "name": "stdout",
     "output_type": "stream",
     "text": [
      "   Unnamed: 0_x  year_x  month  day  dep_time  dep_delay  arr_time  arr_delay  \\\n",
      "0            20    2013      1    1     601.0        1.0     844.0       -6.0   \n",
      "1            23    2013      1    1     606.0       -4.0     858.0      -12.0   \n",
      "2            25    2013      1    1     607.0        0.0     858.0      -17.0   \n",
      "3            26    2013      1    1     608.0        8.0     807.0       32.0   \n",
      "4            30    2013      1    1     615.0        0.0     833.0       -9.0   \n",
      "5            31    2013      1    1     622.0       -8.0    1017.0        3.0   \n",
      "6            34    2013      1    1     624.0       -6.0     909.0       29.0   \n",
      "7            38    2013      1    1     628.0       -2.0    1016.0       29.0   \n",
      "8            41    2013      1    1     629.0       -1.0     824.0       -9.0   \n",
      "9            42    2013      1    1     632.0       24.0     740.0       12.0   \n",
      "\n",
      "  carrier tailnum  ...    year_y   temp   dewp  humid  wind_dir  wind_speed  \\\n",
      "0      B6  N644JB  ...      2013  39.02  26.06  59.37     270.0    10.35702   \n",
      "1      AA  N633AA  ...      2013  39.02  26.06  59.37     270.0    10.35702   \n",
      "2      UA  N53442  ...      2013  39.02  26.06  59.37     270.0    10.35702   \n",
      "3      MQ  N9EAMQ  ...      2013  39.02  26.06  59.37     270.0    10.35702   \n",
      "4      DL  N326NB  ...      2013  39.02  26.06  59.37     270.0    10.35702   \n",
      "5      US  N807AW  ...      2013  39.02  26.06  59.37     270.0    10.35702   \n",
      "6      EV  N11107  ...      2013  39.02  26.06  59.37     270.0    10.35702   \n",
      "7      UA  N33289  ...      2013  39.02  26.06  59.37     270.0    10.35702   \n",
      "8      US  N426US  ...      2013  39.02  26.06  59.37     270.0    10.35702   \n",
      "9      EV  N13553  ...      2013  39.02  26.06  59.37     270.0    10.35702   \n",
      "\n",
      "   wind_gust  precip  pressure  visib  \n",
      "0  11.918651     0.0    1012.0   10.0  \n",
      "1  11.918651     0.0    1012.0   10.0  \n",
      "2  11.918651     0.0    1012.0   10.0  \n",
      "3  11.918651     0.0    1012.0   10.0  \n",
      "4  11.918651     0.0    1012.0   10.0  \n",
      "5  11.918651     0.0    1012.0   10.0  \n",
      "6  11.918651     0.0    1012.0   10.0  \n",
      "7  11.918651     0.0    1012.0   10.0  \n",
      "8  11.918651     0.0    1012.0   10.0  \n",
      "9  11.918651     0.0    1012.0   10.0  \n",
      "\n",
      "[10 rows x 28 columns]\n"
     ]
    },
    {
     "ename": "NameError",
     "evalue": "name 'plt' is not defined",
     "output_type": "error",
     "traceback": [
      "\u001b[0;31m---------------------------------------------------------------------------\u001b[0m",
      "\u001b[0;31mNameError\u001b[0m                                 Traceback (most recent call last)",
      "\u001b[0;32m<ipython-input-5-351b13132185>\u001b[0m in \u001b[0;36m<module>\u001b[0;34m()\u001b[0m\n\u001b[1;32m      5\u001b[0m \u001b[0mdf_c\u001b[0m \u001b[1;33m=\u001b[0m \u001b[0mpd\u001b[0m\u001b[1;33m.\u001b[0m\u001b[0mmerge\u001b[0m\u001b[1;33m(\u001b[0m\u001b[0mdf\u001b[0m\u001b[1;33m,\u001b[0m\u001b[0mweather_df\u001b[0m\u001b[1;33m,\u001b[0m \u001b[0mon\u001b[0m\u001b[1;33m=\u001b[0m\u001b[1;33m[\u001b[0m\u001b[1;34m'month'\u001b[0m\u001b[1;33m,\u001b[0m\u001b[1;34m'day'\u001b[0m\u001b[1;33m,\u001b[0m\u001b[1;34m'hour'\u001b[0m\u001b[1;33m,\u001b[0m\u001b[1;34m'origin'\u001b[0m\u001b[1;33m]\u001b[0m\u001b[1;33m)\u001b[0m\u001b[1;33m\u001b[0m\u001b[0m\n\u001b[1;32m      6\u001b[0m \u001b[0mprint\u001b[0m\u001b[1;33m(\u001b[0m\u001b[0mdf_c\u001b[0m\u001b[1;33m.\u001b[0m\u001b[0mhead\u001b[0m\u001b[1;33m(\u001b[0m\u001b[1;36m10\u001b[0m\u001b[1;33m)\u001b[0m\u001b[1;33m)\u001b[0m\u001b[1;33m\u001b[0m\u001b[0m\n\u001b[0;32m----> 7\u001b[0;31m \u001b[0mplt\u001b[0m\u001b[1;33m.\u001b[0m\u001b[0mfigure\u001b[0m\u001b[1;33m(\u001b[0m\u001b[1;36m0\u001b[0m\u001b[1;33m)\u001b[0m\u001b[1;33m\u001b[0m\u001b[0m\n\u001b[0m\u001b[1;32m      8\u001b[0m \u001b[0mplt\u001b[0m\u001b[1;33m.\u001b[0m\u001b[0mplot\u001b[0m\u001b[1;33m(\u001b[0m\u001b[0mdf_c\u001b[0m\u001b[1;33m.\u001b[0m\u001b[0mhumid\u001b[0m\u001b[1;33m,\u001b[0m \u001b[0mdf_c\u001b[0m\u001b[1;33m.\u001b[0m\u001b[0mdep_delay\u001b[0m\u001b[1;33m,\u001b[0m \u001b[1;34m'r--'\u001b[0m\u001b[1;33m)\u001b[0m\u001b[1;33m\u001b[0m\u001b[0m\n\u001b[1;32m      9\u001b[0m \u001b[0mplt\u001b[0m\u001b[1;33m.\u001b[0m\u001b[0mxlabel\u001b[0m\u001b[1;33m(\u001b[0m\u001b[1;34m'Humidity'\u001b[0m\u001b[1;33m)\u001b[0m\u001b[1;33m\u001b[0m\u001b[0m\n",
      "\u001b[0;31mNameError\u001b[0m: name 'plt' is not defined"
     ]
    }
   ],
   "source": [
    "% matplotlib inline\n",
    "weather_df = pd.read_csv('weather.csv')\n",
    "df = flights_df\n",
    "#print(weather_df.head(10))\n",
    "df_c = pd.merge(df,weather_df, on=['month','day','hour','origin'])\n",
    "print(df_c.head(10))\n",
    "plt.figure(0)\n",
    "plt.plot(df_c.humid, df_c.dep_delay, 'r--')\n",
    "plt.xlabel('Humidity')\n",
    "plt.ylabel('Departure Delay')\n",
    "plt.title('Departure Delay Vs. Humidity')\n",
    "plt.figure(1)\n",
    "plt.plot(df_c.temp, df_c.arr_delay)\n",
    "plt.xlabel('Temperature')\n",
    "plt.ylabel('Arrival Delay')\n",
    "plt.title('Arrival Delay Vs. Temperature')\n"
   ]
  },
  {
   "cell_type": "markdown",
   "metadata": {},
   "source": [
    "After merging the flights and weather dataframes based on the columns month, day, hour and origin, two separate graphs have been plotted:\n",
    "\n",
    "1. Departure Delay Vs. Humidity:\n",
    "The Departure delay and Humidity plot indicates that there is a rise in departure delay as humidity increases till Humidity reaches the 50th unit. The departure delay reduces when humidity is between roughly 55-65 units. The graph is more or less constant except for the dip at the end. There are a lot of outliers. This signifies that there can be significantly high departure delays even when the humidity is not that high or low. This signifies that other factors such as wind speed, temperature, precipitation may be responsible for the numerous outliers. \n",
    "\n",
    "2. Arrival Delay Vs. Temperature:\n",
    "The Arrival Delay and Temperature plot also indicates that there is a rise in arrival delay as temperature increases till roughly 35 units. There is a huge spike in Arrival delay at the 24-25th unit followed by the biggest spike in the 40th unit. The graph then remains more or less constant execpt for the dip at the end and a few spikes at the 45-55th unit, 64th, 85th and 9th units. Due to the significant dip in arrival delay at very high temperatures (90 units and above), we cannot conclude that there is a correlation between arrival delay and temperature. However, other factors may be responsible for the fluctuating arrival delay and the various spikes seen in the graph that we probably have not accounted for. Other factors not related to weather, such as waiting time at airports, passenger traffic, immigration queues etc. might have a significant effect on arrival delay which is beyond the purview of our dataset."
   ]
  }
 ],
 "metadata": {
  "kernelspec": {
   "display_name": "Python 3",
   "language": "python",
   "name": "python3"
  },
  "language_info": {
   "codemirror_mode": {
    "name": "ipython",
    "version": 3
   },
   "file_extension": ".py",
   "mimetype": "text/x-python",
   "name": "python",
   "nbconvert_exporter": "python",
   "pygments_lexer": "ipython3",
   "version": "3.6.0"
  }
 },
 "nbformat": 4,
 "nbformat_minor": 0
}
